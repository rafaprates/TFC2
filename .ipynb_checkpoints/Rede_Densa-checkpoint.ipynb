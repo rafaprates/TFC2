{
 "cells": [
  {
   "cell_type": "markdown",
   "metadata": {
    "id": "GiPEK6pFfrqp"
   },
   "source": [
    "# Treinamento & busca pelos melhores hiperparâmetros"
   ]
  },
  {
   "cell_type": "markdown",
   "metadata": {
    "id": "WEBGyqIzWu4C"
   },
   "source": [
    "## Importações & inicialização do ambiente de execução"
   ]
  },
  {
   "cell_type": "code",
   "execution_count": 1,
   "metadata": {
    "colab": {
     "base_uri": "https://localhost:8080/"
    },
    "id": "rsXsd6BGota2",
    "outputId": "08beed2d-4f80-4c3e-f9c1-97aebeaf3700"
   },
   "outputs": [],
   "source": [
    "# Inicialização e limpenza do ambiente de execução\n",
    "#!pip install keras-tuner -q\n",
    "#!rm -rf Resultados\n",
    "#!rm -rf sample_data\n",
    "#!rm -rf dados_geracao_FV.csv\n",
    "#!wget https://raw.githubusercontent.com/rafaprates/tfc_dados/main/dados_geracao_FV.csv"
   ]
  },
  {
   "cell_type": "code",
   "execution_count": 2,
   "metadata": {
    "id": "pHPxjk-CexbB"
   },
   "outputs": [],
   "source": [
    "import tensorflow as tf\n",
    "#from tensorflow import keras\n",
    "#from tensorflow.keras import Input\n",
    "#from tensorflow.keras.models import Sequential\n",
    "#from tensorflow.keras.layers import Dense\n",
    "from tensorflow.keras.optimizers import SGD\n",
    "from tensorflow.keras import initializers\n",
    "\n",
    "import keras_tuner as kt\n",
    "\n",
    "import pandas as pd\n",
    "import numpy as np\n",
    "import random as python_random\n",
    "\n",
    "from sklearn.preprocessing import MinMaxScaler\n",
    "from sklearn.model_selection import train_test_split\n",
    "from sklearn.metrics import r2_score\n",
    "from sklearn.metrics import mean_absolute_error\n",
    "\n",
    "import matplotlib.pyplot as plt"
   ]
  },
  {
   "cell_type": "markdown",
   "metadata": {},
   "source": [
    "Código necessário para assegurar a reprodutibilidade dos resultados.\n",
    "Elimina as aleatoriedades intrínsecas das ferramentas."
   ]
  },
  {
   "cell_type": "code",
   "execution_count": 3,
   "metadata": {
    "id": "JPx9ZuURW6Dc"
   },
   "outputs": [],
   "source": [
    "np.random.seed(123)\n",
    "python_random.seed(123)\n",
    "tf.random.set_seed(1234)"
   ]
  },
  {
   "cell_type": "markdown",
   "metadata": {
    "id": "YlqwRve9gCon"
   },
   "source": [
    "## Preprocessamento dos dados"
   ]
  },
  {
   "cell_type": "code",
   "execution_count": 4,
   "metadata": {
    "id": "B9TDBIgkfLLE"
   },
   "outputs": [],
   "source": [
    "# Ler o arquivo\n",
    "dados = pd.read_csv(r\"C:\\Users\\rafae\\Documents\\TFC2\\TFC2\\dados_geracao_FV.txt\", decimal=\",\")\n",
    "#dados = pd.read_csv(\"./dados_geracao_FV.txt\", decimal=\",\")"
   ]
  },
  {
   "cell_type": "code",
   "execution_count": 5,
   "metadata": {
    "id": "G4tmhn7efPmA"
   },
   "outputs": [],
   "source": [
    "# atribuindo os tipos de dados às colunas\n",
    "dados['Hora'] = dados['Hora'].astype(\"int64\")\n",
    "dados['Temperatura_C'] = dados['Temperatura_C'].astype(\"float64\")\n",
    "dados['Radiancia_W_m2'] = dados['Radiancia_W_m2'].astype(\"float64\")\n",
    "dados['Temperatura_celula_C'] = dados['Temperatura_celula_C'].astype(\"float64\")\n",
    "dados['Potencia_W'] = dados['Potencia_W'].astype(\"float64\")\n",
    "\n",
    "# df_caracteristicas\n",
    "dados_caracteristicas = dados[['Radiancia_W_m2', \n",
    "                         'Temperatura_celula_C', \n",
    "                         'Temperatura_C']]\n",
    "\n",
    "# df_alvo\n",
    "dados_alvo = dados[['Potencia_W']]"
   ]
  },
  {
   "cell_type": "markdown",
   "metadata": {
    "id": "cI1vkdGYlY_7"
   },
   "source": [
    "Comprimir os valores entre 0 e 1 para conversão mais rápida. \n",
    "\n",
    "**Este passo é indicado por diversas fontes.**"
   ]
  },
  {
   "cell_type": "code",
   "execution_count": 6,
   "metadata": {
    "id": "xrhxSiR6fSM2"
   },
   "outputs": [],
   "source": [
    "# Comprimir os valores entre 0 e 1 para conversão mais rápida.\n",
    "# Este passo é indicado por diversas bibliografias.\n",
    "scaler = MinMaxScaler()\n",
    "caracteristicas_scaled = scaler.fit_transform(dados_caracteristicas)\n",
    "alvo_scaled = scaler.fit_transform(dados_alvo)"
   ]
  },
  {
   "cell_type": "markdown",
   "metadata": {
    "id": "7aKmsmrSl-4z"
   },
   "source": [
    "Criar os subconjuntos de treinamento e teste.\n"
   ]
  },
  {
   "cell_type": "code",
   "execution_count": 7,
   "metadata": {
    "id": "CpPaa_xhfXrp"
   },
   "outputs": [],
   "source": [
    "# shuffle = false é muito importante porque da natureza ordenada dos dados \n",
    "# que compõem séries temporais\n",
    "# https://scikit-learn.org/stable/modules/generated/sklearn.model_selection.train_test_split.html\n",
    "\n",
    "tamanho_conjunto_teste = 0.1 # em portcentagem\n",
    "\n",
    "x_train, x_test, y_train, y_test = train_test_split(\n",
    "    caracteristicas_scaled,\n",
    "    alvo_scaled,\n",
    "    test_size=tamanho_conjunto_teste,\n",
    "    shuffle=False,\n",
    ")"
   ]
  },
  {
   "cell_type": "markdown",
   "metadata": {
    "id": "9mxrpGrrRtfC"
   },
   "source": [
    "## Definição do modelo & espaço de procura dos hiperparâmetros"
   ]
  },
  {
   "cell_type": "code",
   "execution_count": 8,
   "metadata": {
    "id": "AlGx6g5Uf31D"
   },
   "outputs": [],
   "source": [
    "def hypermodel(hp):\n",
    "    model = tf.keras.Sequential()\n",
    "\n",
    "    # camada de entrada  \n",
    "    model.add(tf.keras.Input(shape=(3,)))\n",
    "\n",
    "    # número de camadas\n",
    "    min_qtd_camada_oculta = 0\n",
    "    max_qtd_camada_oculta = 8\n",
    "    min_qtd_neuronio_por_camada = 1\n",
    "    max_qtd_neuronio_por_camada = 12\n",
    "    for camada in range(hp.Int('n_camada_oculta', min_qtd_camada_oculta, max_qtd_camada_oculta)):\n",
    "        # número de neurônios na camada oculta\n",
    "        model.add(tf.keras.layers.Dense(\n",
    "            units=hp.Int(f'n_neuronio_camada_oculta_{camada+1}', \n",
    "                         min_value=min_qtd_neuronio_por_camada, \n",
    "                         max_value=max_qtd_neuronio_por_camada,\n",
    "                         step=1),\n",
    "        activation=hp.Choice(\n",
    "            f'funcao_ativacao_camada_oculta_{camada+1}', \n",
    "            ['linear','relu']\n",
    "        ),\n",
    "            kernel_initializer=tf.keras.initializers.Ones()\n",
    "        ))\n",
    "\n",
    "    model.add(tf.keras.layers.Dense(\n",
    "        units=1,\n",
    "        activation='relu',\n",
    "        kernel_initializer=tf.keras.initializers.Ones()\n",
    "    ))\n",
    "\n",
    "    # taxa de aprendizado\n",
    "    taxa_aprendizado=hp.Choice(\"taxa_de_aprendizado\", \n",
    "                               [1.0, 0.1, 0.01, 0.001]\n",
    "    )\n",
    "\n",
    "    # função de perda\n",
    "    loss=hp.Choice(\"função_de_perda\", \n",
    "                   ['mean_absolute_error', \n",
    "                    'mean_squared_error'])\n",
    "\n",
    "    model.compile(\n",
    "        loss=loss,\n",
    "        optimizer=tf.keras.optimizers.SGD(learning_rate=taxa_aprendizado),\n",
    "        metrics=['mean_absolute_error'],\n",
    "    )\n",
    "\n",
    "    return model"
   ]
  },
  {
   "cell_type": "code",
   "execution_count": 9,
   "metadata": {
    "id": "O_DUWfiphiRT"
   },
   "outputs": [
    {
     "name": "stdout",
     "output_type": "stream",
     "text": [
      "INFO:tensorflow:Reloading Oracle from existing project Resultados\\Rede_Densa\\oracle.json\n",
      "INFO:tensorflow:Reloading Tuner from Resultados\\Rede_Densa\\tuner0.json\n"
     ]
    }
   ],
   "source": [
    "# https://datascience.stackexchange.com/questions/68336/what-is-max-trials-and-executions-per-trial-in-keras-tuner\n",
    "\n",
    "\n",
    "\n",
    "tuner = kt.RandomSearch(\n",
    "    hypermodel,\n",
    "    objective='mean_absolute_error',\n",
    "    max_trials=8192,\n",
    "    executions_per_trial=1,\n",
    "    project_name=\"Rede_Densa\",\n",
    "    directory=\"Resultados\",\n",
    ")"
   ]
  },
  {
   "cell_type": "markdown",
   "metadata": {
    "id": "fxnUOwFaXlvn"
   },
   "source": [
    "Resumo do espaço de procura"
   ]
  },
  {
   "cell_type": "code",
   "execution_count": null,
   "metadata": {
    "colab": {
     "base_uri": "https://localhost:8080/"
    },
    "id": "PPCwdeaMhoak",
    "outputId": "e38f319d-1516-4f16-ab06-7059e7d6e0d2",
    "scrolled": true
   },
   "outputs": [
    {
     "name": "stdout",
     "output_type": "stream",
     "text": [
      "Trial 4099 Complete [00h 00m 06s]\n",
      "mean_absolute_error: 0.19146275520324707\n",
      "\n",
      "Best mean_absolute_error So Far: 0.0012813707580789924\n",
      "Total elapsed time: 00h 00m 17s\n",
      "\n",
      "Search: Running Trial #4100\n",
      "\n",
      "Value             |Best Value So Far |Hyperparameter\n",
      "7                 |0                 |n_camada_oculta\n",
      "0.01              |0.1               |taxa_de_aprendizado\n",
      "mean_absolute_e...|mean_squared_error|função_de_perda\n",
      "3                 |2                 |n_neuronio_camada_oculta_1\n",
      "linear            |linear            |funcao_ativacao_camada_oculta_1\n",
      "1                 |4                 |n_neuronio_camada_oculta_2\n",
      "linear            |linear            |funcao_ativacao_camada_oculta_2\n",
      "6                 |11                |n_neuronio_camada_oculta_3\n",
      "relu              |linear            |funcao_ativacao_camada_oculta_3\n",
      "1                 |6                 |n_neuronio_camada_oculta_4\n",
      "relu              |relu              |funcao_ativacao_camada_oculta_4\n",
      "3                 |5                 |n_neuronio_camada_oculta_5\n",
      "relu              |linear            |funcao_ativacao_camada_oculta_5\n",
      "11                |10                |n_neuronio_camada_oculta_6\n",
      "relu              |relu              |funcao_ativacao_camada_oculta_6\n",
      "9                 |10                |n_neuronio_camada_oculta_7\n",
      "linear            |relu              |funcao_ativacao_camada_oculta_7\n",
      "1                 |None              |n_neuronio_camada_oculta_8\n",
      "linear            |None              |funcao_ativacao_camada_oculta_8\n",
      "\n",
      "Epoch 1/100\n",
      "20/20 [==============================] - 1s 12ms/step - loss: 293.6615 - mean_absolute_error: 293.6615 - val_loss: 0.2010 - val_mean_absolute_error: 0.2010\n",
      "Epoch 2/100\n",
      "20/20 [==============================] - 0s 4ms/step - loss: 0.1915 - mean_absolute_error: 0.1915 - val_loss: 0.2010 - val_mean_absolute_error: 0.2010\n",
      "Epoch 3/100\n",
      "20/20 [==============================] - 0s 3ms/step - loss: 0.1915 - mean_absolute_error: 0.1915 - val_loss: 0.2010 - val_mean_absolute_error: 0.2010\n",
      "Epoch 4/100\n",
      "20/20 [==============================] - 0s 3ms/step - loss: 0.1915 - mean_absolute_error: 0.1915 - val_loss: 0.2010 - val_mean_absolute_error: 0.2010\n",
      "Epoch 5/100\n",
      "20/20 [==============================] - 0s 3ms/step - loss: 0.1915 - mean_absolute_error: 0.1915 - val_loss: 0.2010 - val_mean_absolute_error: 0.2010\n",
      "Epoch 6/100\n",
      "20/20 [==============================] - 0s 3ms/step - loss: 0.1915 - mean_absolute_error: 0.1915 - val_loss: 0.2010 - val_mean_absolute_error: 0.2010\n",
      "Epoch 7/100\n",
      "20/20 [==============================] - 0s 3ms/step - loss: 0.1915 - mean_absolute_error: 0.1915 - val_loss: 0.2010 - val_mean_absolute_error: 0.2010\n",
      "Epoch 8/100\n",
      "20/20 [==============================] - 0s 3ms/step - loss: 0.1915 - mean_absolute_error: 0.1915 - val_loss: 0.2010 - val_mean_absolute_error: 0.2010\n",
      "Epoch 9/100\n",
      "20/20 [==============================] - 0s 3ms/step - loss: 0.1915 - mean_absolute_error: 0.1915 - val_loss: 0.2010 - val_mean_absolute_error: 0.2010\n",
      "Epoch 10/100\n",
      "20/20 [==============================] - 0s 3ms/step - loss: 0.1915 - mean_absolute_error: 0.1915 - val_loss: 0.2010 - val_mean_absolute_error: 0.2010\n",
      "Epoch 11/100\n",
      "20/20 [==============================] - 0s 3ms/step - loss: 0.1915 - mean_absolute_error: 0.1915 - val_loss: 0.2010 - val_mean_absolute_error: 0.2010\n",
      "Epoch 12/100\n",
      "20/20 [==============================] - 0s 3ms/step - loss: 0.1915 - mean_absolute_error: 0.1915 - val_loss: 0.2010 - val_mean_absolute_error: 0.2010\n",
      "Epoch 13/100\n",
      "20/20 [==============================] - 0s 3ms/step - loss: 0.1915 - mean_absolute_error: 0.1915 - val_loss: 0.2010 - val_mean_absolute_error: 0.2010\n",
      "Epoch 14/100\n",
      "20/20 [==============================] - 0s 3ms/step - loss: 0.1915 - mean_absolute_error: 0.1915 - val_loss: 0.2010 - val_mean_absolute_error: 0.2010\n",
      "Epoch 15/100\n",
      "20/20 [==============================] - 0s 3ms/step - loss: 0.1915 - mean_absolute_error: 0.1915 - val_loss: 0.2010 - val_mean_absolute_error: 0.2010\n",
      "Epoch 16/100\n",
      "20/20 [==============================] - 0s 3ms/step - loss: 0.1915 - mean_absolute_error: 0.1915 - val_loss: 0.2010 - val_mean_absolute_error: 0.2010\n",
      "Epoch 17/100\n",
      "20/20 [==============================] - 0s 3ms/step - loss: 0.1915 - mean_absolute_error: 0.1915 - val_loss: 0.2010 - val_mean_absolute_error: 0.2010\n",
      "Epoch 18/100\n",
      "20/20 [==============================] - 0s 3ms/step - loss: 0.1915 - mean_absolute_error: 0.1915 - val_loss: 0.2010 - val_mean_absolute_error: 0.2010\n",
      "Epoch 19/100\n",
      "20/20 [==============================] - 0s 2ms/step - loss: 0.1915 - mean_absolute_error: 0.1915 - val_loss: 0.2010 - val_mean_absolute_error: 0.2010\n",
      "Epoch 20/100\n",
      "20/20 [==============================] - 0s 3ms/step - loss: 0.1915 - mean_absolute_error: 0.1915 - val_loss: 0.2010 - val_mean_absolute_error: 0.2010\n",
      "Epoch 21/100\n",
      "20/20 [==============================] - 0s 3ms/step - loss: 0.1915 - mean_absolute_error: 0.1915 - val_loss: 0.2010 - val_mean_absolute_error: 0.2010\n",
      "Epoch 22/100\n",
      "20/20 [==============================] - 0s 3ms/step - loss: 0.1915 - mean_absolute_error: 0.1915 - val_loss: 0.2010 - val_mean_absolute_error: 0.2010\n",
      "Epoch 23/100\n",
      "20/20 [==============================] - 0s 3ms/step - loss: 0.1915 - mean_absolute_error: 0.1915 - val_loss: 0.2010 - val_mean_absolute_error: 0.2010\n",
      "Epoch 24/100\n",
      "20/20 [==============================] - 0s 3ms/step - loss: 0.1915 - mean_absolute_error: 0.1915 - val_loss: 0.2010 - val_mean_absolute_error: 0.2010\n",
      "Epoch 25/100\n",
      "20/20 [==============================] - 0s 3ms/step - loss: 0.1915 - mean_absolute_error: 0.1915 - val_loss: 0.2010 - val_mean_absolute_error: 0.2010\n",
      "Epoch 26/100\n",
      "20/20 [==============================] - 0s 3ms/step - loss: 0.1915 - mean_absolute_error: 0.1915 - val_loss: 0.2010 - val_mean_absolute_error: 0.2010\n",
      "Epoch 27/100\n",
      "20/20 [==============================] - 0s 3ms/step - loss: 0.1915 - mean_absolute_error: 0.1915 - val_loss: 0.2010 - val_mean_absolute_error: 0.2010\n",
      "Epoch 28/100\n",
      "20/20 [==============================] - 0s 7ms/step - loss: 0.1915 - mean_absolute_error: 0.1915 - val_loss: 0.2010 - val_mean_absolute_error: 0.2010\n",
      "Epoch 29/100\n",
      "20/20 [==============================] - 0s 4ms/step - loss: 0.1915 - mean_absolute_error: 0.1915 - val_loss: 0.2010 - val_mean_absolute_error: 0.2010\n",
      "Epoch 30/100\n",
      "20/20 [==============================] - 0s 3ms/step - loss: 0.1915 - mean_absolute_error: 0.1915 - val_loss: 0.2010 - val_mean_absolute_error: 0.2010\n",
      "Epoch 31/100\n",
      "20/20 [==============================] - 0s 5ms/step - loss: 0.1915 - mean_absolute_error: 0.1915 - val_loss: 0.2010 - val_mean_absolute_error: 0.2010\n",
      "Epoch 32/100\n",
      "20/20 [==============================] - 0s 3ms/step - loss: 0.1915 - mean_absolute_error: 0.1915 - val_loss: 0.2010 - val_mean_absolute_error: 0.2010\n",
      "Epoch 33/100\n",
      "20/20 [==============================] - 0s 3ms/step - loss: 0.1915 - mean_absolute_error: 0.1915 - val_loss: 0.2010 - val_mean_absolute_error: 0.2010\n",
      "Epoch 34/100\n",
      "20/20 [==============================] - 0s 3ms/step - loss: 0.1915 - mean_absolute_error: 0.1915 - val_loss: 0.2010 - val_mean_absolute_error: 0.2010\n",
      "Epoch 35/100\n",
      "20/20 [==============================] - 0s 3ms/step - loss: 0.1915 - mean_absolute_error: 0.1915 - val_loss: 0.2010 - val_mean_absolute_error: 0.2010\n",
      "Epoch 36/100\n",
      " 1/20 [>.............................] - ETA: 0s - loss: 0.1693 - mean_absolute_error: 0.1693"
     ]
    }
   ],
   "source": [
    "tuner.search(x_train, \n",
    "             y_train,\n",
    "             epochs=100, \n",
    "             validation_data=(x_test, y_test),\n",
    "             validation_split=0.1,\n",
    "             shuffle=False,\n",
    "             callbacks=[tf.keras.callbacks.TerminateOnNaN()],\n",
    "             )"
   ]
  },
  {
   "cell_type": "markdown",
   "metadata": {
    "id": "_8F25Uk5kMPc"
   },
   "source": [
    "## Resultados"
   ]
  },
  {
   "cell_type": "markdown",
   "metadata": {
    "id": "8wWm-FPKXxAZ"
   },
   "source": [
    "Pega-se os 3 (três) melhores modelos e guarda seus resultados"
   ]
  },
  {
   "cell_type": "code",
   "execution_count": null,
   "metadata": {
    "colab": {
     "base_uri": "https://localhost:8080/",
     "height": 235
    },
    "id": "fP_ghYr9YwPj",
    "outputId": "7c18b2c6-918e-4835-e85f-e00168f854e1"
   },
   "outputs": [],
   "source": [
    "# construção do df_resultado\n",
    "potencia_esperada = scaler.inverse_transform(y_test)\n",
    "resultado = pd.DataFrame(potencia_esperada, columns=['Potência Esperada'])\n",
    "resultado['Potência Esperada'] = potencia_esperada\n",
    "\n",
    "# melhores modelos\n",
    "qtd_melhores_modelos=10\n",
    "models = tuner.get_best_models(num_models=qtd_melhores_modelos)\n",
    "\n",
    "maes = dict()\n",
    "\n",
    "for model, model_num in zip(models, range(qtd_melhores_modelos)):\n",
    "   test_prediction = model.predict(x_test)\n",
    "   potencia_prevista = scaler.inverse_transform(test_prediction)\n",
    "   resultado[f'Potência Prevista {model_num+1}'] = potencia_prevista\n",
    "\n",
    "   maes[f'modelo_{model_num}'] = mean_absolute_error(\n",
    "       resultado['Potência Esperada'],\n",
    "       resultado[f'Potência Prevista {model_num+1}']\n",
    "   )"
   ]
  },
  {
   "cell_type": "markdown",
   "metadata": {
    "id": "X7ayBKY7YBar"
   },
   "source": [
    "Potência Esperada e Potências Previstas dos modelos testados"
   ]
  },
  {
   "cell_type": "markdown",
   "metadata": {
    "id": "CoAs7qa1X7dV"
   },
   "source": [
    "Mean Absolute Error dos três melhores modelos."
   ]
  },
  {
   "cell_type": "code",
   "execution_count": null,
   "metadata": {
    "id": "uIgQOrgc0zzk"
   },
   "outputs": [],
   "source": [
    "maes\n",
    "#25, 49, 51\n",
    "# 5, 1116, 667\n",
    "# 119, 81, 161"
   ]
  },
  {
   "cell_type": "markdown",
   "metadata": {
    "id": "ez3UesNUYa9N"
   },
   "source": [
    "Gráfico comparativo das potências previstas e esperadas"
   ]
  },
  {
   "cell_type": "markdown",
   "metadata": {
    "id": "G4hTP-wBYSOf"
   },
   "source": [
    "Descrição dos melhores modelos"
   ]
  },
  {
   "cell_type": "code",
   "execution_count": null,
   "metadata": {},
   "outputs": [],
   "source": [
    "for num_modelo in range(qtd_melhores_modelos):\n",
    "    resultado[[f'Potência Prevista {num_modelo+1}', 'Potência Esperada']].plot()"
   ]
  },
  {
   "cell_type": "code",
   "execution_count": null,
   "metadata": {
    "id": "0F5qhFHf2-3_"
   },
   "outputs": [],
   "source": [
    "# https://stackoverflow.com/questions/61375125/keras-tuner-mismatch-between-number-of-layers-used-and-number-of-layers-reporte\n",
    "# https://github.com/keras-team/keras-tuner/issues/66#issuecomment-525923517\n",
    "tuner.results_summary(num_trials=qtd_melhores_modelos)"
   ]
  }
 ],
 "metadata": {
  "colab": {
   "collapsed_sections": [],
   "name": "TFC_Rede_Densa_Tuning.ipynb",
   "provenance": []
  },
  "kernelspec": {
   "display_name": "Python 3 (ipykernel)",
   "language": "python",
   "name": "python3"
  },
  "language_info": {
   "codemirror_mode": {
    "name": "ipython",
    "version": 3
   },
   "file_extension": ".py",
   "mimetype": "text/x-python",
   "name": "python",
   "nbconvert_exporter": "python",
   "pygments_lexer": "ipython3",
   "version": "3.9.0"
  }
 },
 "nbformat": 4,
 "nbformat_minor": 1
}
