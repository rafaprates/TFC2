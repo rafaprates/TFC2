{
 "cells": [
  {
   "cell_type": "markdown",
   "metadata": {
    "id": "GiPEK6pFfrqp"
   },
   "source": [
    "# Treinamento & busca pelos melhores hiperparâmetros"
   ]
  },
  {
   "cell_type": "markdown",
   "metadata": {
    "id": "WEBGyqIzWu4C"
   },
   "source": [
    "## Importações & inicialização do ambiente de execução"
   ]
  },
  {
   "cell_type": "code",
   "execution_count": 1,
   "metadata": {
    "colab": {
     "base_uri": "https://localhost:8080/"
    },
    "id": "rsXsd6BGota2",
    "outputId": "08beed2d-4f80-4c3e-f9c1-97aebeaf3700"
   },
   "outputs": [],
   "source": [
    "# Inicialização e limpenza do ambiente de execução\n",
    "#!pip install keras-tuner -q\n",
    "#!rm -rf Resultados\n",
    "#!rm -rf sample_data\n",
    "#!rm -rf dados_geracao_FV.csv\n",
    "#!wget https://raw.githubusercontent.com/rafaprates/tfc_dados/main/dados_geracao_FV.csv"
   ]
  },
  {
   "cell_type": "code",
   "execution_count": 2,
   "metadata": {
    "id": "pHPxjk-CexbB"
   },
   "outputs": [],
   "source": [
    "import tensorflow as tf\n",
    "from tensorflow import keras\n",
    "from tensorflow.keras import Input\n",
    "from tensorflow.keras.models import Sequential\n",
    "from tensorflow.keras.layers import Dense\n",
    "from tensorflow.keras.optimizers import SGD\n",
    "from tensorflow.keras import initializers\n",
    "\n",
    "import keras_tuner as kt\n",
    "\n",
    "import pandas as pd\n",
    "import numpy as np\n",
    "import random as python_random\n",
    "\n",
    "from sklearn.preprocessing import MinMaxScaler\n",
    "from sklearn.model_selection import train_test_split\n",
    "from sklearn.metrics import r2_score\n",
    "from sklearn.metrics import mean_absolute_error\n",
    "\n",
    "import matplotlib.pyplot as plt"
   ]
  },
  {
   "cell_type": "markdown",
   "metadata": {},
   "source": [
    "Código necessário para assegurar a reprodutibilidade dos resultados.\n",
    "Elimina as aleatoriedades intrínsecas das ferramentas."
   ]
  },
  {
   "cell_type": "code",
   "execution_count": 3,
   "metadata": {
    "id": "JPx9ZuURW6Dc"
   },
   "outputs": [],
   "source": [
    "np.random.seed(123)\n",
    "python_random.seed(123)\n",
    "tf.random.set_seed(1234)"
   ]
  },
  {
   "cell_type": "markdown",
   "metadata": {
    "id": "YlqwRve9gCon"
   },
   "source": [
    "## Preprocessamento dos dados"
   ]
  },
  {
   "cell_type": "code",
   "execution_count": 4,
   "metadata": {
    "id": "B9TDBIgkfLLE"
   },
   "outputs": [],
   "source": [
    "# Ler o arquivo\n",
    "dados = pd.read_csv(r\"C:\\Users\\rafae\\Documents\\TFC\\Nova pasta\\dados_geracao_FV.txt\", decimal=\",\")"
   ]
  },
  {
   "cell_type": "code",
   "execution_count": 5,
   "metadata": {
    "id": "G4tmhn7efPmA"
   },
   "outputs": [],
   "source": [
    "# atribuindo os tipos de dados às colunas\n",
    "dados['Hora'] = dados['Hora'].astype(\"int64\")\n",
    "dados['Temperatura_C'] = dados['Temperatura_C'].astype(\"float64\")\n",
    "dados['Radiancia_W_m2'] = dados['Radiancia_W_m2'].astype(\"float64\")\n",
    "dados['Temperatura_celula_C'] = dados['Temperatura_celula_C'].astype(\"float64\")\n",
    "dados['Potencia_W'] = dados['Potencia_W'].astype(\"float64\")\n",
    "\n",
    "# df_caracteristicas\n",
    "dados_caracteristicas = dados[['Radiancia_W_m2', \n",
    "                         'Temperatura_celula_C', \n",
    "                         'Temperatura_C']]\n",
    "\n",
    "# df_alvo\n",
    "dados_alvo = dados[['Potencia_W']]"
   ]
  },
  {
   "cell_type": "markdown",
   "metadata": {
    "id": "cI1vkdGYlY_7"
   },
   "source": [
    "Comprimir os valores entre 0 e 1 para conversão mais rápida. \n",
    "\n",
    "**Este passo é indicado por diversas fontes.**"
   ]
  },
  {
   "cell_type": "code",
   "execution_count": 6,
   "metadata": {
    "id": "xrhxSiR6fSM2"
   },
   "outputs": [],
   "source": [
    "# Comprimir os valores entre 0 e 1 para conversão mais rápida.\n",
    "# Este passo é indicado por diversas bibliografias.\n",
    "scaler = MinMaxScaler()\n",
    "caracteristicas_scaled = scaler.fit_transform(dados_caracteristicas)\n",
    "alvo_scaled = scaler.fit_transform(dados_alvo)"
   ]
  },
  {
   "cell_type": "markdown",
   "metadata": {
    "id": "7aKmsmrSl-4z"
   },
   "source": [
    "Criar os subconjuntos de treinamento e teste.\n"
   ]
  },
  {
   "cell_type": "code",
   "execution_count": 7,
   "metadata": {
    "id": "CpPaa_xhfXrp"
   },
   "outputs": [],
   "source": [
    "# shuffle = false é muito importante porque da natureza ordenada dos dados \n",
    "# que compõem séries temporais\n",
    "# https://scikit-learn.org/stable/modules/generated/sklearn.model_selection.train_test_split.html\n",
    "\n",
    "tamanho_conjunto_teste = 0.1 # em portcentagem\n",
    "\n",
    "x_train, x_test, y_train, y_test = train_test_split(\n",
    "    caracteristicas_scaled,\n",
    "    alvo_scaled,\n",
    "    test_size=tamanho_conjunto_teste,\n",
    "    shuffle=False,\n",
    ")"
   ]
  },
  {
   "cell_type": "markdown",
   "metadata": {
    "id": "9mxrpGrrRtfC"
   },
   "source": [
    "## Definição do modelo & espaço de procura dos hiperparâmetros"
   ]
  },
  {
   "cell_type": "code",
   "execution_count": 8,
   "metadata": {
    "id": "AlGx6g5Uf31D"
   },
   "outputs": [],
   "source": [
    "def hypermodel(hp):\n",
    "    model = keras.Sequential()\n",
    "\n",
    "    # camada de entrada  \n",
    "    model.add(tf.keras.Input(shape=(3,)))\n",
    "\n",
    "    # número de camadas\n",
    "    min_qtd_camada_oculta = 0\n",
    "    max_qtd_camada_oculta = 8\n",
    "    min_qtd_neuronio_por_camada = 1\n",
    "    max_qtd_neuronio_por_camada = 12\n",
    "    for camada in range(hp.Int('n_camada_oculta', min_qtd_camada_oculta, max_qtd_camada_oculta)):\n",
    "        # número de neurônios na camada oculta\n",
    "        model.add(Dense(\n",
    "            units=hp.Int(f'n_neuronio_camada_oculta_{camada+1}', \n",
    "                         min_value=min_qtd_neuronio_por_camada, \n",
    "                         max_value=max_qtd_neuronio_por_camada,\n",
    "                         step=1),\n",
    "        activation=hp.Choice(\n",
    "            f'funcao_ativacao_camada_oculta_{camada+1}', \n",
    "            ['linear','relu']\n",
    "        ),\n",
    "            kernel_initializer=initializers.Ones()\n",
    "        ))\n",
    "\n",
    "    model.add(Dense(\n",
    "        units=1,\n",
    "        activation='relu',\n",
    "        kernel_initializer=initializers.Ones()\n",
    "    ))\n",
    "\n",
    "    # taxa de aprendizado\n",
    "    taxa_aprendizado=hp.Choice(\"taxa_de_aprendizado\", \n",
    "                               [1.0, 0.1, 0.01, 0.001]\n",
    "    )\n",
    "\n",
    "    # função de perda\n",
    "    loss=hp.Choice(\"função_de_perda\", \n",
    "                   ['mean_absolute_error', \n",
    "                    'mean_squared_error'])\n",
    "\n",
    "    model.compile(\n",
    "        loss=loss,\n",
    "        optimizer=SGD(learning_rate=taxa_aprendizado),\n",
    "        metrics=['mean_absolute_error', 'mean_squared_error'],\n",
    "    )\n",
    "\n",
    "    return model"
   ]
  },
  {
   "cell_type": "code",
   "execution_count": 9,
   "metadata": {
    "id": "O_DUWfiphiRT"
   },
   "outputs": [
    {
     "name": "stdout",
     "output_type": "stream",
     "text": [
      "INFO:tensorflow:Reloading Oracle from existing project Resultados\\Rede_Densa\\oracle.json\n",
      "INFO:tensorflow:Reloading Tuner from Resultados\\Rede_Densa\\tuner0.json\n"
     ]
    }
   ],
   "source": [
    "# https://datascience.stackexchange.com/questions/68336/what-is-max-trials-and-executions-per-trial-in-keras-tuner\n",
    "\n",
    "tuner = kt.RandomSearch(\n",
    "    hypermodel,\n",
    "    objective='val_mean_absolute_error',\n",
    "    max_trials=4096,\n",
    "    executions_per_trial=1,\n",
    "    directory=\"Resultados\",\n",
    "    project_name=\"Rede_Densa\",\n",
    ")"
   ]
  },
  {
   "cell_type": "markdown",
   "metadata": {
    "id": "fxnUOwFaXlvn"
   },
   "source": [
    "Resumo do espaço de procura"
   ]
  },
  {
   "cell_type": "code",
   "execution_count": 10,
   "metadata": {
    "colab": {
     "base_uri": "https://localhost:8080/"
    },
    "id": "P8IxHI4wUFzy",
    "outputId": "42dcd668-b3e0-4aa9-d069-0e61a071d3c0"
   },
   "outputs": [
    {
     "name": "stdout",
     "output_type": "stream",
     "text": [
      "Search space summary\n",
      "Default search space size: 19\n",
      "n_camada_oculta (Int)\n",
      "{'default': None, 'conditions': [], 'min_value': 0, 'max_value': 8, 'step': 1, 'sampling': None}\n",
      "taxa_de_aprendizado (Choice)\n",
      "{'default': 1.0, 'conditions': [], 'values': [1.0, 0.1, 0.01, 0.001], 'ordered': True}\n",
      "função_de_perda (Choice)\n",
      "{'default': 'mean_absolute_error', 'conditions': [], 'values': ['mean_absolute_error', 'mean_squared_error'], 'ordered': False}\n",
      "n_neuronio_camada_oculta_1 (Int)\n",
      "{'default': None, 'conditions': [], 'min_value': 1, 'max_value': 12, 'step': 1, 'sampling': None}\n",
      "funcao_ativacao_camada_oculta_1 (Choice)\n",
      "{'default': 'linear', 'conditions': [], 'values': ['linear', 'relu'], 'ordered': False}\n",
      "n_neuronio_camada_oculta_2 (Int)\n",
      "{'default': None, 'conditions': [], 'min_value': 1, 'max_value': 12, 'step': 1, 'sampling': None}\n",
      "funcao_ativacao_camada_oculta_2 (Choice)\n",
      "{'default': 'linear', 'conditions': [], 'values': ['linear', 'relu'], 'ordered': False}\n",
      "n_neuronio_camada_oculta_3 (Int)\n",
      "{'default': None, 'conditions': [], 'min_value': 1, 'max_value': 12, 'step': 1, 'sampling': None}\n",
      "funcao_ativacao_camada_oculta_3 (Choice)\n",
      "{'default': 'linear', 'conditions': [], 'values': ['linear', 'relu'], 'ordered': False}\n",
      "n_neuronio_camada_oculta_4 (Int)\n",
      "{'default': None, 'conditions': [], 'min_value': 1, 'max_value': 12, 'step': 1, 'sampling': None}\n",
      "funcao_ativacao_camada_oculta_4 (Choice)\n",
      "{'default': 'linear', 'conditions': [], 'values': ['linear', 'relu'], 'ordered': False}\n",
      "n_neuronio_camada_oculta_5 (Int)\n",
      "{'default': None, 'conditions': [], 'min_value': 1, 'max_value': 12, 'step': 1, 'sampling': None}\n",
      "funcao_ativacao_camada_oculta_5 (Choice)\n",
      "{'default': 'linear', 'conditions': [], 'values': ['linear', 'relu'], 'ordered': False}\n",
      "n_neuronio_camada_oculta_6 (Int)\n",
      "{'default': None, 'conditions': [], 'min_value': 1, 'max_value': 12, 'step': 1, 'sampling': None}\n",
      "funcao_ativacao_camada_oculta_6 (Choice)\n",
      "{'default': 'linear', 'conditions': [], 'values': ['linear', 'relu'], 'ordered': False}\n",
      "n_neuronio_camada_oculta_7 (Int)\n",
      "{'default': None, 'conditions': [], 'min_value': 1, 'max_value': 12, 'step': 1, 'sampling': None}\n",
      "funcao_ativacao_camada_oculta_7 (Choice)\n",
      "{'default': 'linear', 'conditions': [], 'values': ['linear', 'relu'], 'ordered': False}\n",
      "n_neuronio_camada_oculta_8 (Int)\n",
      "{'default': None, 'conditions': [], 'min_value': 1, 'max_value': 12, 'step': 1, 'sampling': None}\n",
      "funcao_ativacao_camada_oculta_8 (Choice)\n",
      "{'default': 'linear', 'conditions': [], 'values': ['linear', 'relu'], 'ordered': False}\n"
     ]
    }
   ],
   "source": [
    "tuner.search_space_summary(extended=True)"
   ]
  },
  {
   "cell_type": "code",
   "execution_count": 11,
   "metadata": {
    "colab": {
     "base_uri": "https://localhost:8080/"
    },
    "id": "PPCwdeaMhoak",
    "outputId": "e38f319d-1516-4f16-ab06-7059e7d6e0d2",
    "scrolled": true
   },
   "outputs": [
    {
     "name": "stdout",
     "output_type": "stream",
     "text": [
      "INFO:tensorflow:Oracle triggered exit\n"
     ]
    }
   ],
   "source": [
    "tuner.search(x_train, \n",
    "             y_train,\n",
    "             epochs=100, \n",
    "             validation_data=(x_test, y_test),\n",
    "             validation_split=0.1,\n",
    "             verbose=2,\n",
    "             shuffle=False,\n",
    "             )"
   ]
  },
  {
   "cell_type": "markdown",
   "metadata": {
    "id": "_8F25Uk5kMPc"
   },
   "source": [
    "## Resultados"
   ]
  },
  {
   "cell_type": "markdown",
   "metadata": {
    "id": "8wWm-FPKXxAZ"
   },
   "source": [
    "Pega-se os 3 (três) melhores modelos e guarda seus resultados"
   ]
  },
  {
   "cell_type": "code",
   "execution_count": 12,
   "metadata": {
    "colab": {
     "base_uri": "https://localhost:8080/",
     "height": 235
    },
    "id": "fP_ghYr9YwPj",
    "outputId": "7c18b2c6-918e-4835-e85f-e00168f854e1"
   },
   "outputs": [
    {
     "ename": "NotFoundError",
     "evalue": "Unsuccessful TensorSliceReader constructor: Failed to find any matching files for Resultados\\Rede_Densa\\trial_0001\\checkpoint",
     "output_type": "error",
     "traceback": [
      "\u001b[1;31m---------------------------------------------------------------------------\u001b[0m",
      "\u001b[1;31mNotFoundError\u001b[0m                             Traceback (most recent call last)",
      "Input \u001b[1;32mIn [12]\u001b[0m, in \u001b[0;36m<cell line: 8>\u001b[1;34m()\u001b[0m\n\u001b[0;32m      6\u001b[0m \u001b[38;5;66;03m# melhores modelos\u001b[39;00m\n\u001b[0;32m      7\u001b[0m qtd_melhores_modelos\u001b[38;5;241m=\u001b[39m\u001b[38;5;241m5\u001b[39m\n\u001b[1;32m----> 8\u001b[0m models \u001b[38;5;241m=\u001b[39m \u001b[43mtuner\u001b[49m\u001b[38;5;241;43m.\u001b[39;49m\u001b[43mget_best_models\u001b[49m\u001b[43m(\u001b[49m\u001b[43mnum_models\u001b[49m\u001b[38;5;241;43m=\u001b[39;49m\u001b[43mqtd_melhores_modelos\u001b[49m\u001b[43m)\u001b[49m\n\u001b[0;32m     10\u001b[0m maes \u001b[38;5;241m=\u001b[39m \u001b[38;5;28mdict\u001b[39m()\n\u001b[0;32m     12\u001b[0m \u001b[38;5;28;01mfor\u001b[39;00m model, model_num \u001b[38;5;129;01min\u001b[39;00m \u001b[38;5;28mzip\u001b[39m(models, \u001b[38;5;28mrange\u001b[39m(qtd_melhores_modelos)):\n",
      "File \u001b[1;32m~\\AppData\\Local\\Programs\\Python\\Python310\\lib\\site-packages\\keras_tuner\\engine\\tuner.py:364\u001b[0m, in \u001b[0;36mTuner.get_best_models\u001b[1;34m(self, num_models)\u001b[0m\n\u001b[0;32m    346\u001b[0m \u001b[38;5;124;03m\"\"\"Returns the best model(s), as determined by the tuner's objective.\u001b[39;00m\n\u001b[0;32m    347\u001b[0m \n\u001b[0;32m    348\u001b[0m \u001b[38;5;124;03mThe models are loaded with the weights corresponding to\u001b[39;00m\n\u001b[1;32m   (...)\u001b[0m\n\u001b[0;32m    361\u001b[0m \u001b[38;5;124;03m    List of trained model instances sorted from the best to the worst.\u001b[39;00m\n\u001b[0;32m    362\u001b[0m \u001b[38;5;124;03m\"\"\"\u001b[39;00m\n\u001b[0;32m    363\u001b[0m \u001b[38;5;66;03m# Method only exists in this class for the docstring override.\u001b[39;00m\n\u001b[1;32m--> 364\u001b[0m \u001b[38;5;28;01mreturn\u001b[39;00m \u001b[38;5;28;43msuper\u001b[39;49m\u001b[43m(\u001b[49m\u001b[43mTuner\u001b[49m\u001b[43m,\u001b[49m\u001b[43m \u001b[49m\u001b[38;5;28;43mself\u001b[39;49m\u001b[43m)\u001b[49m\u001b[38;5;241;43m.\u001b[39;49m\u001b[43mget_best_models\u001b[49m\u001b[43m(\u001b[49m\u001b[43mnum_models\u001b[49m\u001b[43m)\u001b[49m\n",
      "File \u001b[1;32m~\\AppData\\Local\\Programs\\Python\\Python310\\lib\\site-packages\\keras_tuner\\engine\\base_tuner.py:284\u001b[0m, in \u001b[0;36mBaseTuner.get_best_models\u001b[1;34m(self, num_models)\u001b[0m\n\u001b[0;32m    269\u001b[0m \u001b[38;5;124;03m\"\"\"Returns the best model(s), as determined by the objective.\u001b[39;00m\n\u001b[0;32m    270\u001b[0m \n\u001b[0;32m    271\u001b[0m \u001b[38;5;124;03mThis method is for querying the models trained during the search.\u001b[39;00m\n\u001b[1;32m   (...)\u001b[0m\n\u001b[0;32m    281\u001b[0m \u001b[38;5;124;03m    List of trained models sorted from the best to the worst.\u001b[39;00m\n\u001b[0;32m    282\u001b[0m \u001b[38;5;124;03m\"\"\"\u001b[39;00m\n\u001b[0;32m    283\u001b[0m best_trials \u001b[38;5;241m=\u001b[39m \u001b[38;5;28mself\u001b[39m\u001b[38;5;241m.\u001b[39moracle\u001b[38;5;241m.\u001b[39mget_best_trials(num_models)\n\u001b[1;32m--> 284\u001b[0m models \u001b[38;5;241m=\u001b[39m [\u001b[38;5;28mself\u001b[39m\u001b[38;5;241m.\u001b[39mload_model(trial) \u001b[38;5;28;01mfor\u001b[39;00m trial \u001b[38;5;129;01min\u001b[39;00m best_trials]\n\u001b[0;32m    285\u001b[0m \u001b[38;5;28;01mreturn\u001b[39;00m models\n",
      "File \u001b[1;32m~\\AppData\\Local\\Programs\\Python\\Python310\\lib\\site-packages\\keras_tuner\\engine\\base_tuner.py:284\u001b[0m, in \u001b[0;36m<listcomp>\u001b[1;34m(.0)\u001b[0m\n\u001b[0;32m    269\u001b[0m \u001b[38;5;124;03m\"\"\"Returns the best model(s), as determined by the objective.\u001b[39;00m\n\u001b[0;32m    270\u001b[0m \n\u001b[0;32m    271\u001b[0m \u001b[38;5;124;03mThis method is for querying the models trained during the search.\u001b[39;00m\n\u001b[1;32m   (...)\u001b[0m\n\u001b[0;32m    281\u001b[0m \u001b[38;5;124;03m    List of trained models sorted from the best to the worst.\u001b[39;00m\n\u001b[0;32m    282\u001b[0m \u001b[38;5;124;03m\"\"\"\u001b[39;00m\n\u001b[0;32m    283\u001b[0m best_trials \u001b[38;5;241m=\u001b[39m \u001b[38;5;28mself\u001b[39m\u001b[38;5;241m.\u001b[39moracle\u001b[38;5;241m.\u001b[39mget_best_trials(num_models)\n\u001b[1;32m--> 284\u001b[0m models \u001b[38;5;241m=\u001b[39m [\u001b[38;5;28;43mself\u001b[39;49m\u001b[38;5;241;43m.\u001b[39;49m\u001b[43mload_model\u001b[49m\u001b[43m(\u001b[49m\u001b[43mtrial\u001b[49m\u001b[43m)\u001b[49m \u001b[38;5;28;01mfor\u001b[39;00m trial \u001b[38;5;129;01min\u001b[39;00m best_trials]\n\u001b[0;32m    285\u001b[0m \u001b[38;5;28;01mreturn\u001b[39;00m models\n",
      "File \u001b[1;32m~\\AppData\\Local\\Programs\\Python\\Python310\\lib\\site-packages\\keras_tuner\\engine\\tuner.py:304\u001b[0m, in \u001b[0;36mTuner.load_model\u001b[1;34m(self, trial)\u001b[0m\n\u001b[0;32m    301\u001b[0m \u001b[38;5;66;03m# Reload best checkpoint.\u001b[39;00m\n\u001b[0;32m    302\u001b[0m \u001b[38;5;66;03m# Only load weights to avoid loading `custom_objects`.\u001b[39;00m\n\u001b[0;32m    303\u001b[0m \u001b[38;5;28;01mwith\u001b[39;00m maybe_distribute(\u001b[38;5;28mself\u001b[39m\u001b[38;5;241m.\u001b[39mdistribution_strategy):\n\u001b[1;32m--> 304\u001b[0m     \u001b[43mmodel\u001b[49m\u001b[38;5;241;43m.\u001b[39;49m\u001b[43mload_weights\u001b[49m\u001b[43m(\u001b[49m\u001b[38;5;28;43mself\u001b[39;49m\u001b[38;5;241;43m.\u001b[39;49m\u001b[43m_get_checkpoint_fname\u001b[49m\u001b[43m(\u001b[49m\u001b[43mtrial\u001b[49m\u001b[38;5;241;43m.\u001b[39;49m\u001b[43mtrial_id\u001b[49m\u001b[43m)\u001b[49m\u001b[43m)\u001b[49m\n\u001b[0;32m    305\u001b[0m \u001b[38;5;28;01mreturn\u001b[39;00m model\n",
      "File \u001b[1;32m~\\AppData\\Local\\Programs\\Python\\Python310\\lib\\site-packages\\keras\\utils\\traceback_utils.py:67\u001b[0m, in \u001b[0;36mfilter_traceback.<locals>.error_handler\u001b[1;34m(*args, **kwargs)\u001b[0m\n\u001b[0;32m     65\u001b[0m \u001b[38;5;28;01mexcept\u001b[39;00m \u001b[38;5;167;01mException\u001b[39;00m \u001b[38;5;28;01mas\u001b[39;00m e:  \u001b[38;5;66;03m# pylint: disable=broad-except\u001b[39;00m\n\u001b[0;32m     66\u001b[0m   filtered_tb \u001b[38;5;241m=\u001b[39m _process_traceback_frames(e\u001b[38;5;241m.\u001b[39m__traceback__)\n\u001b[1;32m---> 67\u001b[0m   \u001b[38;5;28;01mraise\u001b[39;00m e\u001b[38;5;241m.\u001b[39mwith_traceback(filtered_tb) \u001b[38;5;28;01mfrom\u001b[39;00m \u001b[38;5;28mNone\u001b[39m\n\u001b[0;32m     68\u001b[0m \u001b[38;5;28;01mfinally\u001b[39;00m:\n\u001b[0;32m     69\u001b[0m   \u001b[38;5;28;01mdel\u001b[39;00m filtered_tb\n",
      "File \u001b[1;32m~\\AppData\\Local\\Programs\\Python\\Python310\\lib\\site-packages\\tensorflow\\python\\training\\py_checkpoint_reader.py:31\u001b[0m, in \u001b[0;36merror_translator\u001b[1;34m(e)\u001b[0m\n\u001b[0;32m     27\u001b[0m error_message \u001b[38;5;241m=\u001b[39m \u001b[38;5;28mstr\u001b[39m(e)\n\u001b[0;32m     28\u001b[0m \u001b[38;5;28;01mif\u001b[39;00m \u001b[38;5;124m'\u001b[39m\u001b[38;5;124mnot found in checkpoint\u001b[39m\u001b[38;5;124m'\u001b[39m \u001b[38;5;129;01min\u001b[39;00m error_message \u001b[38;5;129;01mor\u001b[39;00m (\n\u001b[0;32m     29\u001b[0m     \u001b[38;5;124m'\u001b[39m\u001b[38;5;124mFailed to find any \u001b[39m\u001b[38;5;124m'\u001b[39m\n\u001b[0;32m     30\u001b[0m     \u001b[38;5;124m'\u001b[39m\u001b[38;5;124mmatching files for\u001b[39m\u001b[38;5;124m'\u001b[39m) \u001b[38;5;129;01min\u001b[39;00m error_message:\n\u001b[1;32m---> 31\u001b[0m   \u001b[38;5;28;01mraise\u001b[39;00m errors_impl\u001b[38;5;241m.\u001b[39mNotFoundError(\u001b[38;5;28;01mNone\u001b[39;00m, \u001b[38;5;28;01mNone\u001b[39;00m, error_message)\n\u001b[0;32m     32\u001b[0m \u001b[38;5;28;01melif\u001b[39;00m \u001b[38;5;124m'\u001b[39m\u001b[38;5;124mSliced checkpoints are not supported\u001b[39m\u001b[38;5;124m'\u001b[39m \u001b[38;5;129;01min\u001b[39;00m error_message \u001b[38;5;129;01mor\u001b[39;00m (\n\u001b[0;32m     33\u001b[0m     \u001b[38;5;124m'\u001b[39m\u001b[38;5;124mData type \u001b[39m\u001b[38;5;124m'\u001b[39m\n\u001b[0;32m     34\u001b[0m     \u001b[38;5;124m'\u001b[39m\u001b[38;5;124mnot \u001b[39m\u001b[38;5;124m'\u001b[39m\n\u001b[0;32m     35\u001b[0m     \u001b[38;5;124m'\u001b[39m\u001b[38;5;124msupported\u001b[39m\u001b[38;5;124m'\u001b[39m) \u001b[38;5;129;01min\u001b[39;00m error_message:\n\u001b[0;32m     36\u001b[0m   \u001b[38;5;28;01mraise\u001b[39;00m errors_impl\u001b[38;5;241m.\u001b[39mUnimplementedError(\u001b[38;5;28;01mNone\u001b[39;00m, \u001b[38;5;28;01mNone\u001b[39;00m, error_message)\n",
      "\u001b[1;31mNotFoundError\u001b[0m: Unsuccessful TensorSliceReader constructor: Failed to find any matching files for Resultados\\Rede_Densa\\trial_0001\\checkpoint"
     ]
    }
   ],
   "source": [
    "# construção do df_resultado\n",
    "potencia_esperada = scaler.inverse_transform(y_test)\n",
    "resultado = pd.DataFrame(potencia_esperada, columns=['Potência Esperada'])\n",
    "resultado['Potência Esperada'] = potencia_esperada\n",
    "\n",
    "# melhores modelos\n",
    "qtd_melhores_modelos=5\n",
    "models = tuner.get_best_models(num_models=qtd_melhores_modelos)\n",
    "\n",
    "maes = dict()\n",
    "\n",
    "for model, model_num in zip(models, range(qtd_melhores_modelos)):\n",
    "   test_prediction = model.predict(x_test)\n",
    "   potencia_prevista = scaler.inverse_transform(test_prediction)\n",
    "   resultado[f'Potência Prevista {model_num+1}'] = potencia_prevista\n",
    "\n",
    "   maes[f'modelo_{model_num}'] = mean_absolute_error(\n",
    "       resultado['Potência Esperada'],\n",
    "       resultado[f'Potência Prevista {model_num+1}']\n",
    "   )"
   ]
  },
  {
   "cell_type": "markdown",
   "metadata": {
    "id": "X7ayBKY7YBar"
   },
   "source": [
    "Potência Esperada e Potências Previstas dos modelos testados"
   ]
  },
  {
   "cell_type": "code",
   "execution_count": null,
   "metadata": {
    "id": "jVtFu2ux0xyn"
   },
   "outputs": [],
   "source": [
    "resultado"
   ]
  },
  {
   "cell_type": "markdown",
   "metadata": {
    "id": "CoAs7qa1X7dV"
   },
   "source": [
    "Mean Absolute Error dos três melhores modelos."
   ]
  },
  {
   "cell_type": "code",
   "execution_count": null,
   "metadata": {
    "id": "uIgQOrgc0zzk"
   },
   "outputs": [],
   "source": [
    "maes\n",
    "#25, 49, 51\n",
    "# 5, 1116, 667"
   ]
  },
  {
   "cell_type": "markdown",
   "metadata": {
    "id": "ez3UesNUYa9N"
   },
   "source": [
    "Gráfico comparativo das potências previstas e esperadas"
   ]
  },
  {
   "cell_type": "markdown",
   "metadata": {
    "id": "G4hTP-wBYSOf"
   },
   "source": [
    "Descrição dos melhores modelos"
   ]
  },
  {
   "cell_type": "code",
   "execution_count": null,
   "metadata": {},
   "outputs": [],
   "source": [
    "for num_modelo in range(qtd_melhores_modelos):\n",
    "    resultado[[f'Potência Prevista {num_modelo+1}', 'Potência Esperada']].plot()"
   ]
  },
  {
   "cell_type": "code",
   "execution_count": null,
   "metadata": {
    "id": "0F5qhFHf2-3_"
   },
   "outputs": [],
   "source": [
    "tuner.results_summary(num_trials=qtd_melhores_modelos)"
   ]
  },
  {
   "cell_type": "code",
   "execution_count": null,
   "metadata": {},
   "outputs": [],
   "source": [
    "\n"
   ]
  }
 ],
 "metadata": {
  "colab": {
   "collapsed_sections": [],
   "name": "TFC_Rede_Densa_Tuning.ipynb",
   "provenance": []
  },
  "kernelspec": {
   "display_name": "Python 3 (ipykernel)",
   "language": "python",
   "name": "python3"
  },
  "language_info": {
   "codemirror_mode": {
    "name": "ipython",
    "version": 3
   },
   "file_extension": ".py",
   "mimetype": "text/x-python",
   "name": "python",
   "nbconvert_exporter": "python",
   "pygments_lexer": "ipython3",
   "version": "3.10.4"
  }
 },
 "nbformat": 4,
 "nbformat_minor": 1
}
