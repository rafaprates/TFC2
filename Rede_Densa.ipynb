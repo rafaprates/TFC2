{
 "cells": [
  {
   "cell_type": "markdown",
   "metadata": {
    "id": "GiPEK6pFfrqp"
   },
   "source": [
    "# Treinamento & busca pelos melhores hiperparâmetros"
   ]
  },
  {
   "cell_type": "markdown",
   "metadata": {
    "id": "WEBGyqIzWu4C"
   },
   "source": [
    "## Importações & inicialização do ambiente de execução"
   ]
  },
  {
   "cell_type": "code",
   "execution_count": 1,
   "metadata": {
    "colab": {
     "base_uri": "https://localhost:8080/"
    },
    "id": "rsXsd6BGota2",
    "outputId": "08beed2d-4f80-4c3e-f9c1-97aebeaf3700"
   },
   "outputs": [],
   "source": [
    "# Inicialização e limpenza do ambiente de execução\n",
    "#!pip install keras-tuner -q\n",
    "#!rm -rf Resultados\n",
    "#!rm -rf sample_data\n",
    "#!rm -rf dados_geracao_FV.csv\n",
    "#!wget https://raw.githubusercontent.com/rafaprates/tfc_dados/main/dados_geracao_FV.csv"
   ]
  },
  {
   "cell_type": "code",
   "execution_count": 2,
   "metadata": {
    "id": "pHPxjk-CexbB"
   },
   "outputs": [],
   "source": [
    "import tensorflow as tf\n",
    "#from tensorflow import keras\n",
    "#from tensorflow.keras import Input\n",
    "#from tensorflow.keras.models import Sequential\n",
    "#from tensorflow.keras.layers import Dense\n",
    "from tensorflow.keras.optimizers import SGD\n",
    "from tensorflow.keras import initializers\n",
    "\n",
    "import keras_tuner as kt\n",
    "\n",
    "import pandas as pd\n",
    "import numpy as np\n",
    "import random as python_random\n",
    "\n",
    "from sklearn.preprocessing import MinMaxScaler\n",
    "from sklearn.model_selection import train_test_split\n",
    "from sklearn.metrics import r2_score\n",
    "from sklearn.metrics import mean_absolute_error\n",
    "\n",
    "import matplotlib.pyplot as plt"
   ]
  },
  {
   "cell_type": "markdown",
   "metadata": {},
   "source": [
    "Código necessário para assegurar a reprodutibilidade dos resultados.\n",
    "Elimina as aleatoriedades intrínsecas das ferramentas."
   ]
  },
  {
   "cell_type": "code",
   "execution_count": 3,
   "metadata": {
    "id": "JPx9ZuURW6Dc"
   },
   "outputs": [],
   "source": [
    "np.random.seed(123)\n",
    "python_random.seed(123)\n",
    "tf.random.set_seed(1234)"
   ]
  },
  {
   "cell_type": "markdown",
   "metadata": {
    "id": "YlqwRve9gCon"
   },
   "source": [
    "## Preprocessamento dos dados"
   ]
  },
  {
   "cell_type": "code",
   "execution_count": 4,
   "metadata": {
    "id": "B9TDBIgkfLLE"
   },
   "outputs": [],
   "source": [
    "# Ler o arquivo\n",
    "dados = pd.read_csv(r\"C:\\Users\\rafae\\Documents\\TFC2\\TFC2\\dados_geracao_FV.txt\", decimal=\",\")\n",
    "#dados = pd.read_csv(\"./dados_geracao_FV.txt\", decimal=\",\")"
   ]
  },
  {
   "cell_type": "code",
   "execution_count": 5,
   "metadata": {
    "id": "G4tmhn7efPmA"
   },
   "outputs": [],
   "source": [
    "# atribuindo os tipos de dados às colunas\n",
    "dados['Hora'] = dados['Hora'].astype(\"int64\")\n",
    "dados['Temperatura_C'] = dados['Temperatura_C'].astype(\"float64\")\n",
    "dados['Radiancia_W_m2'] = dados['Radiancia_W_m2'].astype(\"float64\")\n",
    "dados['Temperatura_celula_C'] = dados['Temperatura_celula_C'].astype(\"float64\")\n",
    "dados['Potencia_W'] = dados['Potencia_W'].astype(\"float64\")\n",
    "\n",
    "# df_caracteristicas\n",
    "dados_caracteristicas = dados[['Radiancia_W_m2', \n",
    "                         'Temperatura_celula_C', \n",
    "                         'Temperatura_C']]\n",
    "\n",
    "# df_alvo\n",
    "dados_alvo = dados[['Potencia_W']]"
   ]
  },
  {
   "cell_type": "markdown",
   "metadata": {
    "id": "cI1vkdGYlY_7"
   },
   "source": [
    "Comprimir os valores entre 0 e 1 para conversão mais rápida. \n",
    "\n",
    "**Este passo é indicado por diversas fontes.**"
   ]
  },
  {
   "cell_type": "code",
   "execution_count": 6,
   "metadata": {
    "id": "xrhxSiR6fSM2"
   },
   "outputs": [],
   "source": [
    "# Comprimir os valores entre 0 e 1 para conversão mais rápida.\n",
    "# Este passo é indicado por diversas bibliografias.\n",
    "scaler = MinMaxScaler()\n",
    "caracteristicas_scaled = scaler.fit_transform(dados_caracteristicas)\n",
    "alvo_scaled = scaler.fit_transform(dados_alvo)"
   ]
  },
  {
   "cell_type": "markdown",
   "metadata": {
    "id": "7aKmsmrSl-4z"
   },
   "source": [
    "Criar os subconjuntos de treinamento e teste.\n"
   ]
  },
  {
   "cell_type": "code",
   "execution_count": 7,
   "metadata": {
    "id": "CpPaa_xhfXrp"
   },
   "outputs": [],
   "source": [
    "# shuffle = false é muito importante porque da natureza ordenada dos dados \n",
    "# que compõem séries temporais\n",
    "# https://scikit-learn.org/stable/modules/generated/sklearn.model_selection.train_test_split.html\n",
    "\n",
    "tamanho_conjunto_teste = 0.1 # em portcentagem\n",
    "\n",
    "x_train, x_test, y_train, y_test = train_test_split(\n",
    "    caracteristicas_scaled,\n",
    "    alvo_scaled,\n",
    "    test_size=tamanho_conjunto_teste,\n",
    "    shuffle=False,\n",
    ")"
   ]
  },
  {
   "cell_type": "markdown",
   "metadata": {
    "id": "9mxrpGrrRtfC"
   },
   "source": [
    "## Definição do modelo & espaço de procura dos hiperparâmetros"
   ]
  },
  {
   "cell_type": "code",
   "execution_count": 8,
   "metadata": {
    "id": "AlGx6g5Uf31D"
   },
   "outputs": [],
   "source": [
    "def hypermodel(hp):\n",
    "    model = tf.keras.Sequential()\n",
    "\n",
    "    # camada de entrada  \n",
    "    model.add(tf.keras.Input(shape=(3,)))\n",
    "\n",
    "    # número de camadas\n",
    "    min_qtd_camada_oculta = 0\n",
    "    max_qtd_camada_oculta = 8\n",
    "    min_qtd_neuronio_por_camada = 1\n",
    "    max_qtd_neuronio_por_camada = 12\n",
    "    for camada in range(hp.Int('n_camada_oculta', min_qtd_camada_oculta, max_qtd_camada_oculta)):\n",
    "        # número de neurônios na camada oculta\n",
    "        model.add(tf.keras.layers.Dense(\n",
    "            units=hp.Int(f'n_neuronio_camada_oculta_{camada+1}', \n",
    "                         min_value=min_qtd_neuronio_por_camada, \n",
    "                         max_value=max_qtd_neuronio_por_camada,\n",
    "                         step=1),\n",
    "        activation=hp.Choice(\n",
    "            f'funcao_ativacao_camada_oculta_{camada+1}', \n",
    "            ['linear','relu']\n",
    "        ),\n",
    "            kernel_initializer=tf.keras.initializers.Ones()\n",
    "        ))\n",
    "\n",
    "    model.add(tf.keras.layers.Dense(\n",
    "        units=1,\n",
    "        activation='relu',\n",
    "        kernel_initializer=tf.keras.initializers.Ones()\n",
    "    ))\n",
    "\n",
    "    # taxa de aprendizado\n",
    "    taxa_aprendizado=hp.Choice(\"taxa_de_aprendizado\", \n",
    "                               [1.0, 0.1, 0.01, 0.001]\n",
    "    )\n",
    "\n",
    "    # função de perda\n",
    "    loss=hp.Choice(\"função_de_perda\", \n",
    "                   ['mean_absolute_error', \n",
    "                    'mean_squared_error'])\n",
    "\n",
    "    model.compile(\n",
    "        loss=loss,\n",
    "        optimizer=tf.keras.optimizers.SGD(learning_rate=taxa_aprendizado),\n",
    "        metrics=['mean_absolute_error'],\n",
    "    )\n",
    "\n",
    "    return model"
   ]
  },
  {
   "cell_type": "code",
   "execution_count": 9,
   "metadata": {
    "id": "O_DUWfiphiRT"
   },
   "outputs": [
    {
     "name": "stdout",
     "output_type": "stream",
     "text": [
      "INFO:tensorflow:Reloading Oracle from existing project Resultados\\Rede_Densa\\oracle.json\n",
      "INFO:tensorflow:Reloading Tuner from Resultados\\Rede_Densa\\tuner0.json\n"
     ]
    }
   ],
   "source": [
    "# https://datascience.stackexchange.com/questions/68336/what-is-max-trials-and-executions-per-trial-in-keras-tuner\n",
    "\n",
    "\n",
    "\n",
    "tuner = kt.RandomSearch(\n",
    "    hypermodel,\n",
    "    objective='mean_absolute_error',\n",
    "    max_trials=4096,\n",
    "    executions_per_trial=1,\n",
    "    project_name=\"Rede_Densa\",\n",
    "    directory=\"Resultados\",\n",
    ")"
   ]
  },
  {
   "cell_type": "markdown",
   "metadata": {
    "id": "fxnUOwFaXlvn"
   },
   "source": [
    "Resumo do espaço de procura"
   ]
  },
  {
   "cell_type": "code",
   "execution_count": 10,
   "metadata": {
    "colab": {
     "base_uri": "https://localhost:8080/"
    },
    "id": "PPCwdeaMhoak",
    "outputId": "e38f319d-1516-4f16-ab06-7059e7d6e0d2",
    "scrolled": true
   },
   "outputs": [
    {
     "name": "stdout",
     "output_type": "stream",
     "text": [
      "INFO:tensorflow:Oracle triggered exit\n"
     ]
    }
   ],
   "source": [
    "tuner.search(x_train, \n",
    "             y_train,\n",
    "             epochs=100, \n",
    "             validation_data=(x_test, y_test),\n",
    "             validation_split=0.1,\n",
    "             verbose=0,\n",
    "             shuffle=False,\n",
    "             )"
   ]
  },
  {
   "cell_type": "code",
   "execution_count": 11,
   "metadata": {},
   "outputs": [
    {
     "name": "stdout",
     "output_type": "stream",
     "text": [
      "Results summary\n",
      "Results in Resultados\\Rede_Densa\n",
      "Showing 5 best trials\n",
      "<keras_tuner.engine.objective.Objective object at 0x0000023989ADC970>\n",
      "Trial summary\n",
      "Hyperparameters:\n",
      "n_camada_oculta: 0\n",
      "taxa_de_aprendizado: 0.1\n",
      "função_de_perda: mean_squared_error\n",
      "n_neuronio_camada_oculta_1: 2\n",
      "funcao_ativacao_camada_oculta_1: linear\n",
      "n_neuronio_camada_oculta_2: 4\n",
      "funcao_ativacao_camada_oculta_2: linear\n",
      "n_neuronio_camada_oculta_3: 11\n",
      "funcao_ativacao_camada_oculta_3: linear\n",
      "n_neuronio_camada_oculta_4: 6\n",
      "funcao_ativacao_camada_oculta_4: relu\n",
      "n_neuronio_camada_oculta_5: 5\n",
      "funcao_ativacao_camada_oculta_5: linear\n",
      "n_neuronio_camada_oculta_6: 10\n",
      "funcao_ativacao_camada_oculta_6: relu\n",
      "n_neuronio_camada_oculta_7: 10\n",
      "funcao_ativacao_camada_oculta_7: relu\n",
      "Score: 0.0012813707580789924\n",
      "Trial summary\n",
      "Hyperparameters:\n",
      "n_camada_oculta: 1\n",
      "taxa_de_aprendizado: 0.1\n",
      "função_de_perda: mean_absolute_error\n",
      "n_neuronio_camada_oculta_1: 11\n",
      "funcao_ativacao_camada_oculta_1: linear\n",
      "n_neuronio_camada_oculta_2: 11\n",
      "funcao_ativacao_camada_oculta_2: relu\n",
      "n_neuronio_camada_oculta_3: 3\n",
      "funcao_ativacao_camada_oculta_3: linear\n",
      "n_neuronio_camada_oculta_4: 10\n",
      "funcao_ativacao_camada_oculta_4: linear\n",
      "n_neuronio_camada_oculta_5: 7\n",
      "funcao_ativacao_camada_oculta_5: relu\n",
      "n_neuronio_camada_oculta_6: 6\n",
      "funcao_ativacao_camada_oculta_6: relu\n",
      "n_neuronio_camada_oculta_7: 5\n",
      "funcao_ativacao_camada_oculta_7: linear\n",
      "Score: 0.017864221706986427\n",
      "Trial summary\n",
      "Hyperparameters:\n",
      "n_camada_oculta: 4\n",
      "taxa_de_aprendizado: 0.1\n",
      "função_de_perda: mean_absolute_error\n",
      "n_neuronio_camada_oculta_1: 1\n",
      "funcao_ativacao_camada_oculta_1: linear\n",
      "n_neuronio_camada_oculta_2: 1\n",
      "funcao_ativacao_camada_oculta_2: linear\n",
      "n_neuronio_camada_oculta_3: 1\n",
      "funcao_ativacao_camada_oculta_3: linear\n",
      "n_neuronio_camada_oculta_4: 1\n",
      "funcao_ativacao_camada_oculta_4: linear\n",
      "Score: 0.02131574973464012\n",
      "Trial summary\n",
      "Hyperparameters:\n",
      "n_camada_oculta: 1\n",
      "taxa_de_aprendizado: 0.1\n",
      "função_de_perda: mean_absolute_error\n",
      "n_neuronio_camada_oculta_1: 5\n",
      "funcao_ativacao_camada_oculta_1: relu\n",
      "n_neuronio_camada_oculta_2: 10\n",
      "funcao_ativacao_camada_oculta_2: relu\n",
      "n_neuronio_camada_oculta_3: 6\n",
      "funcao_ativacao_camada_oculta_3: relu\n",
      "n_neuronio_camada_oculta_4: 3\n",
      "funcao_ativacao_camada_oculta_4: linear\n",
      "n_neuronio_camada_oculta_5: 10\n",
      "funcao_ativacao_camada_oculta_5: linear\n",
      "n_neuronio_camada_oculta_6: 6\n",
      "funcao_ativacao_camada_oculta_6: linear\n",
      "n_neuronio_camada_oculta_7: 2\n",
      "funcao_ativacao_camada_oculta_7: linear\n",
      "n_neuronio_camada_oculta_8: 5\n",
      "funcao_ativacao_camada_oculta_8: relu\n",
      "Score: 0.025000130757689476\n",
      "Trial summary\n",
      "Hyperparameters:\n",
      "n_camada_oculta: 0\n",
      "taxa_de_aprendizado: 0.001\n",
      "função_de_perda: mean_absolute_error\n",
      "n_neuronio_camada_oculta_1: 3\n",
      "funcao_ativacao_camada_oculta_1: relu\n",
      "n_neuronio_camada_oculta_2: 6\n",
      "funcao_ativacao_camada_oculta_2: relu\n",
      "n_neuronio_camada_oculta_3: 2\n",
      "funcao_ativacao_camada_oculta_3: linear\n",
      "n_neuronio_camada_oculta_4: 3\n",
      "funcao_ativacao_camada_oculta_4: linear\n",
      "n_neuronio_camada_oculta_5: 10\n",
      "funcao_ativacao_camada_oculta_5: relu\n",
      "n_neuronio_camada_oculta_6: 8\n",
      "funcao_ativacao_camada_oculta_6: relu\n",
      "n_neuronio_camada_oculta_7: 12\n",
      "funcao_ativacao_camada_oculta_7: linear\n",
      "Score: 0.04545194283127785\n"
     ]
    }
   ],
   "source": [
    "tuner.results_summary(num_trials=5)"
   ]
  },
  {
   "cell_type": "markdown",
   "metadata": {
    "id": "_8F25Uk5kMPc"
   },
   "source": [
    "## Resultados"
   ]
  },
  {
   "cell_type": "markdown",
   "metadata": {
    "id": "8wWm-FPKXxAZ"
   },
   "source": [
    "Pega-se os 3 (três) melhores modelos e guarda seus resultados"
   ]
  },
  {
   "cell_type": "code",
   "execution_count": 16,
   "metadata": {
    "colab": {
     "base_uri": "https://localhost:8080/",
     "height": 235
    },
    "id": "fP_ghYr9YwPj",
    "outputId": "7c18b2c6-918e-4835-e85f-e00168f854e1"
   },
   "outputs": [
    {
     "name": "stdout",
     "output_type": "stream",
     "text": [
      "3/3 [==============================] - 0s 2ms/step\n",
      "WARNING:tensorflow:5 out of the last 13 calls to <function Model.make_predict_function.<locals>.predict_function at 0x0000023988ABE790> triggered tf.function retracing. Tracing is expensive and the excessive number of tracings could be due to (1) creating @tf.function repeatedly in a loop, (2) passing tensors with different shapes, (3) passing Python objects instead of tensors. For (1), please define your @tf.function outside of the loop. For (2), @tf.function has reduce_retracing=True option that can avoid unnecessary retracing. For (3), please refer to https://www.tensorflow.org/guide/function#controlling_retracing and https://www.tensorflow.org/api_docs/python/tf/function for  more details.\n",
      "3/3 [==============================] - 0s 2ms/step\n",
      "WARNING:tensorflow:5 out of the last 13 calls to <function Model.make_predict_function.<locals>.predict_function at 0x0000023991B19DC0> triggered tf.function retracing. Tracing is expensive and the excessive number of tracings could be due to (1) creating @tf.function repeatedly in a loop, (2) passing tensors with different shapes, (3) passing Python objects instead of tensors. For (1), please define your @tf.function outside of the loop. For (2), @tf.function has reduce_retracing=True option that can avoid unnecessary retracing. For (3), please refer to https://www.tensorflow.org/guide/function#controlling_retracing and https://www.tensorflow.org/api_docs/python/tf/function for  more details.\n",
      "3/3 [==============================] - 0s 2ms/step\n",
      "3/3 [==============================] - 0s 2ms/step\n",
      "3/3 [==============================] - 0s 1ms/step\n"
     ]
    }
   ],
   "source": [
    "# construção do df_resultado\n",
    "potencia_esperada = scaler.inverse_transform(y_test)\n",
    "resultado = pd.DataFrame(potencia_esperada, columns=['Potência Esperada'])\n",
    "resultado['Potência Esperada'] = potencia_esperada\n",
    "\n",
    "# melhores modelos\n",
    "qtd_melhores_modelos=5\n",
    "models = tuner.get_best_models(num_models=qtd_melhores_modelos)\n",
    "\n",
    "maes = dict()\n",
    "\n",
    "for model, model_num in zip(models, range(qtd_melhores_modelos)):\n",
    "   test_prediction = model.predict(x_test)\n",
    "   potencia_prevista = scaler.inverse_transform(test_prediction)\n",
    "   resultado[f'Potência Prevista {model_num+1}'] = potencia_prevista\n",
    "\n",
    "   maes[f'modelo_{model_num}'] = mean_absolute_error(\n",
    "       resultado['Potência Esperada'],\n",
    "       resultado[f'Potência Prevista {model_num+1}']\n",
    "   )"
   ]
  },
  {
   "cell_type": "markdown",
   "metadata": {
    "id": "X7ayBKY7YBar"
   },
   "source": [
    "Potência Esperada e Potências Previstas dos modelos testados"
   ]
  },
  {
   "cell_type": "markdown",
   "metadata": {
    "id": "CoAs7qa1X7dV"
   },
   "source": [
    "Mean Absolute Error dos três melhores modelos."
   ]
  },
  {
   "cell_type": "code",
   "execution_count": 17,
   "metadata": {
    "id": "uIgQOrgc0zzk"
   },
   "outputs": [
    {
     "data": {
      "text/plain": [
       "{'modelo_0': 3.9480678965939586,\n",
       " 'modelo_1': 72.69033679864378,\n",
       " 'modelo_2': 64.27048088275089,\n",
       " 'modelo_3': 47.3409390521666,\n",
       " 'modelo_4': 162.14332729736014}"
      ]
     },
     "execution_count": 17,
     "metadata": {},
     "output_type": "execute_result"
    }
   ],
   "source": [
    "maes\n",
    "#25, 49, 51\n",
    "# 5, 1116, 667"
   ]
  },
  {
   "cell_type": "markdown",
   "metadata": {
    "id": "ez3UesNUYa9N"
   },
   "source": [
    "Gráfico comparativo das potências previstas e esperadas"
   ]
  },
  {
   "cell_type": "markdown",
   "metadata": {
    "id": "G4hTP-wBYSOf"
   },
   "source": [
    "Descrição dos melhores modelos"
   ]
  },
  {
   "cell_type": "code",
   "execution_count": 19,
   "metadata": {},
   "outputs": [
    {
     "data": {
      "image/png": "[encoded data removed]",
      "text/plain": [
       "<Figure size 432x288 with 1 Axes>"
      ]
     },
     "metadata": {
      "needs_background": "light"
     },
     "output_type": "display_data"
    },
    {
     "data": {
      "image/png": "[encoded data removed]",
      "text/plain": [
       "<Figure size 432x288 with 1 Axes>"
      ]
     },
     "metadata": {
      "needs_background": "light"
     },
     "output_type": "display_data"
    },
    {
     "data": {
      "image/png": "[encoded data removed]",
      "text/plain": [
       "<Figure size 432x288 with 1 Axes>"
      ]
     },
     "metadata": {
      "needs_background": "light"
     },
     "output_type": "display_data"
    },
    {
     "data": {
      "image/png": "[encoded data removed]",
      "text/plain": [
       "<Figure size 432x288 with 1 Axes>"
      ]
     },
     "metadata": {
      "needs_background": "light"
     },
     "output_type": "display_data"
    },
    {
     "data": {
      "image/png": "[encoded data removed]",
      "text/plain": [
       "<Figure size 432x288 with 1 Axes>"
      ]
     },
     "metadata": {
      "needs_background": "light"
     },
     "output_type": "display_data"
    }
   ],
   "source": [
    "for num_modelo in range(qtd_melhores_modelos):\n",
    "    resultado[[f'Potência Prevista {num_modelo+1}', 'Potência Esperada']].plot()"
   ]
  },
  {
   "cell_type": "code",
   "execution_count": 15,
   "metadata": {
    "id": "0F5qhFHf2-3_"
   },
   "outputs": [
    {
     "name": "stdout",
     "output_type": "stream",
     "text": [
      "Results summary\n",
      "Results in Resultados\\Rede_Densa\n",
      "Showing 3 best trials\n",
      "<keras_tuner.engine.objective.Objective object at 0x0000023989ADC970>\n",
      "Trial summary\n",
      "Hyperparameters:\n",
      "n_camada_oculta: 0\n",
      "taxa_de_aprendizado: 0.1\n",
      "função_de_perda: mean_squared_error\n",
      "n_neuronio_camada_oculta_1: 2\n",
      "funcao_ativacao_camada_oculta_1: linear\n",
      "n_neuronio_camada_oculta_2: 4\n",
      "funcao_ativacao_camada_oculta_2: linear\n",
      "n_neuronio_camada_oculta_3: 11\n",
      "funcao_ativacao_camada_oculta_3: linear\n",
      "n_neuronio_camada_oculta_4: 6\n",
      "funcao_ativacao_camada_oculta_4: relu\n",
      "n_neuronio_camada_oculta_5: 5\n",
      "funcao_ativacao_camada_oculta_5: linear\n",
      "n_neuronio_camada_oculta_6: 10\n",
      "funcao_ativacao_camada_oculta_6: relu\n",
      "n_neuronio_camada_oculta_7: 10\n",
      "funcao_ativacao_camada_oculta_7: relu\n",
      "Score: 0.0012813707580789924\n",
      "Trial summary\n",
      "Hyperparameters:\n",
      "n_camada_oculta: 1\n",
      "taxa_de_aprendizado: 0.1\n",
      "função_de_perda: mean_absolute_error\n",
      "n_neuronio_camada_oculta_1: 11\n",
      "funcao_ativacao_camada_oculta_1: linear\n",
      "n_neuronio_camada_oculta_2: 11\n",
      "funcao_ativacao_camada_oculta_2: relu\n",
      "n_neuronio_camada_oculta_3: 3\n",
      "funcao_ativacao_camada_oculta_3: linear\n",
      "n_neuronio_camada_oculta_4: 10\n",
      "funcao_ativacao_camada_oculta_4: linear\n",
      "n_neuronio_camada_oculta_5: 7\n",
      "funcao_ativacao_camada_oculta_5: relu\n",
      "n_neuronio_camada_oculta_6: 6\n",
      "funcao_ativacao_camada_oculta_6: relu\n",
      "n_neuronio_camada_oculta_7: 5\n",
      "funcao_ativacao_camada_oculta_7: linear\n",
      "Score: 0.017864221706986427\n",
      "Trial summary\n",
      "Hyperparameters:\n",
      "n_camada_oculta: 4\n",
      "taxa_de_aprendizado: 0.1\n",
      "função_de_perda: mean_absolute_error\n",
      "n_neuronio_camada_oculta_1: 1\n",
      "funcao_ativacao_camada_oculta_1: linear\n",
      "n_neuronio_camada_oculta_2: 1\n",
      "funcao_ativacao_camada_oculta_2: linear\n",
      "n_neuronio_camada_oculta_3: 1\n",
      "funcao_ativacao_camada_oculta_3: linear\n",
      "n_neuronio_camada_oculta_4: 1\n",
      "funcao_ativacao_camada_oculta_4: linear\n",
      "Score: 0.02131574973464012\n"
     ]
    }
   ],
   "source": [
    "tuner.results_summary(num_trials=qtd_melhores_modelos)"
   ]
  }
 ],
 "metadata": {
  "colab": {
   "collapsed_sections": [],
   "name": "TFC_Rede_Densa_Tuning.ipynb",
   "provenance": []
  },
  "kernelspec": {
   "display_name": "Python 3 (ipykernel)",
   "language": "python",
   "name": "python3"
  },
  "language_info": {
   "codemirror_mode": {
    "name": "ipython",
    "version": 3
   },
   "file_extension": ".py",
   "mimetype": "text/x-python",
   "name": "python",
   "nbconvert_exporter": "python",
   "pygments_lexer": "ipython3",
   "version": "3.9.0"
  }
 },
 "nbformat": 4,
 "nbformat_minor": 1
}
